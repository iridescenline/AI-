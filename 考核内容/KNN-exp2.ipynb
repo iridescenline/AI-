{
 "cells": [
  {
   "cell_type": "code",
   "execution_count": 1,
   "id": "7c0411b7-3c6c-4419-b37f-ed60320ab1e7",
   "metadata": {},
   "outputs": [
    {
     "ename": "ModuleNotFoundError",
     "evalue": "No module named 'sklearn'",
     "output_type": "error",
     "traceback": [
      "\u001b[1;31m---------------------------------------------------------------------------\u001b[0m",
      "\u001b[1;31mModuleNotFoundError\u001b[0m                       Traceback (most recent call last)",
      "Cell \u001b[1;32mIn[1], line 1\u001b[0m\n\u001b[1;32m----> 1\u001b[0m \u001b[38;5;28;01mfrom\u001b[39;00m \u001b[38;5;21;01msklearn\u001b[39;00m\u001b[38;5;21;01m.\u001b[39;00m\u001b[38;5;21;01mdatasets\u001b[39;00m \u001b[38;5;28;01mimport\u001b[39;00m load_iris\u001b[38;5;66;03m#获取数据集\u001b[39;00m\n\u001b[0;32m      2\u001b[0m \u001b[38;5;28;01mfrom\u001b[39;00m \u001b[38;5;21;01msklearn\u001b[39;00m\u001b[38;5;21;01m.\u001b[39;00m\u001b[38;5;21;01mmodel_selection\u001b[39;00m \u001b[38;5;28;01mimport\u001b[39;00m train_test_split\u001b[38;5;66;03m#数据分割\u001b[39;00m\n\u001b[0;32m      3\u001b[0m \u001b[38;5;28;01mfrom\u001b[39;00m \u001b[38;5;21;01msklearn\u001b[39;00m\u001b[38;5;21;01m.\u001b[39;00m\u001b[38;5;21;01mpreprocessing\u001b[39;00m  \u001b[38;5;28;01mimport\u001b[39;00m StandardScaler\u001b[38;5;66;03m#标准化\u001b[39;00m\n",
      "\u001b[1;31mModuleNotFoundError\u001b[0m: No module named 'sklearn'"
     ]
    }
   ],
   "source": [
    "from sklearn.datasets import load_iris#获取数据集\n",
    "from sklearn.model_selection import train_test_split#数据分割\n",
    "from sklearn.preprocessing  import StandardScaler#标准化\n",
    "from sklearn.neighbors import KNeighborsClassifier\n",
    "\n",
    "#1.获取数据集\n",
    "iris=load_iris()\n",
    "\n",
    "#2.数据基本处理\n",
    "#2.1 数据分割\n",
    "#把数据分割成训练集和测试集，其中80%用于训练，20%用于测试\n",
    "x_train,x_test,y_train,y_test=train_test_split(iris.data,iris.target,random_state=22,test_size=0.2)\n",
    "\n",
    "#3.特征工程\n",
    "#3.1 实例化一个转换器，用于特征缩放\n",
    "transfer=StandardScaler()\n",
    "#3.2 调用fit_transform(x_train)方法\n",
    "x_train=transfer.fit_transform(x_train)\n",
    "x_test=transfer.fit_transform(x_test)\n",
    "#值得注意的是，在这里，如果如果也对x_test使用fit_transform方法，最终结果准确率下降很多\n",
    "#问了一下gpt，它的回答如下\n",
    "\n",
    "#在标准化测试数据时，建议使用transform而不是fit_transform。\n",
    "#以下是为什么和如何正确使用这两个方法的解释：\n",
    "#fit_transform:\n",
    "#这个方法用于训练数据时，既计算均值和标准差（即“拟合”），又对数据进行标准化（即“转换”）。因此，适用于训练集。\n",
    "#transform:\n",
    "#这个方法仅对数据进行标准化，使用之前在训练集上计算的均值和标准差。因此，适用于测试集。\n",
    "#如果你只能使用fit_transform，这可能会导致数据泄露，因为它会对测试数据进行新的拟合，计算其均值和标准差，这不是正确的做法。\n",
    "\n",
    "\n",
    "#4机器学习（模型训练）\n",
    "#4.1实例化一个估计器\n",
    "estimator=KNeighborsClassifier(n_neighbors=5)\n",
    "#4.2使用训练集训练模型\n",
    "estimator.fit(x_train,y_train)\n",
    "\n",
    "#5.模型评估\n",
    "#5.1 用训练好的模型对测试集进行预测\n",
    "y_pre=estimator.predict(x_test)\n",
    "print(\"预测值是:\\n\",y_pre)\n",
    "print(\"预测值和真值对比：\\n\",y_pre==y_test)\n",
    "#5.2输出准确率\n",
    "ret=estimator.score(x_test,y_test)\n",
    "print(\"准确率是:\\n\",ret)"
   ]
  }
 ],
 "metadata": {
  "kernelspec": {
   "display_name": "Python 3 (ipykernel)",
   "language": "python",
   "name": "python3"
  },
  "language_info": {
   "codemirror_mode": {
    "name": "ipython",
    "version": 3
   },
   "file_extension": ".py",
   "mimetype": "text/x-python",
   "name": "python",
   "nbconvert_exporter": "python",
   "pygments_lexer": "ipython3",
   "version": "3.9.20"
  }
 },
 "nbformat": 4,
 "nbformat_minor": 5
}

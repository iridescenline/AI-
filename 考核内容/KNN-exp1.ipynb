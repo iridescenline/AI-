{
 "cells": [
  {
   "cell_type": "code",
   "execution_count": 1,
   "id": "115aefcb-ea3f-4e16-a6c0-5bbbe0e8f223",
   "metadata": {},
   "outputs": [
    {
     "name": "stdout",
     "output_type": "stream",
     "text": [
      "Accuracy is: 0.921\n"
     ]
    }
   ],
   "source": [
    "from sklearn import datasets\n",
    "from collections import Counter \n",
    "from sklearn.model_selection import train_test_split\n",
    "import numpy as np\n",
    "# 导入数据\n",
    "iris=datasets.load_iris()\n",
    "X=iris.data #数据集中的特征数据,包含每朵鸢尾花的四个特征值\n",
    "y=iris.target #目标变量或标签,表示鸢尾花的种类\n",
    "X_train,X_test,y_train,y_test=train_test_split(X,y,random_state=20)\n",
    "def euc_dis(instance1 ,instance2):\n",
    "    \"\"\"\n",
    "    计算两个样本instance1和instance2之间的欧式距离\n",
    "    instance1：第一个样本，array型\n",
    "    instance2：第二个样本，array型\n",
    "    \"\"\"\n",
    "    dist=np.sqrt(sum((instance1-instance2)**2))\n",
    "    return dist\n",
    "def knn_classify(X,y,testInstance,k):\n",
    "    \"\"\"\n",
    "    给定一个测试数据testInstance,通过KNN算法来预测它的标签。\n",
    "    X：训练数据的特征\n",
    "    y：训练数据的标签\n",
    "    testInstance：测试数据，这里假定一个测试数据array型\n",
    "    k：选择几个neighbor？\n",
    "    \"\"\"\n",
    "    distances=[euc_dis(x,testInstance) for x in X]\n",
    "    kneighbors=np.argsort(distances)[:k] #找到距离最近的k个邻居的索引（相当于二维图里坐标）\n",
    "    count=Counter(y[kneighbors])# 统计这k个邻居的标签\n",
    "    return count.most_common()[0][0] #返回出现次数最多的标签\n",
    "\n",
    "predictions=[knn_classify(X_train,y_train,data,4) for data in X_test] \n",
    "correct=np.count_nonzero((predictions==y_test)==True)\n",
    "print(\"Accuracy is: %.3f\" %(correct/len(X_test))) "
   ]
  }
 ],
 "metadata": {
  "kernelspec": {
   "display_name": "Python 3 (ipykernel)",
   "language": "python",
   "name": "python3"
  },
  "language_info": {
   "codemirror_mode": {
    "name": "ipython",
    "version": 3
   },
   "file_extension": ".py",
   "mimetype": "text/x-python",
   "name": "python",
   "nbconvert_exporter": "python",
   "pygments_lexer": "ipython3",
   "version": "3.12.4"
  }
 },
 "nbformat": 4,
 "nbformat_minor": 5
}

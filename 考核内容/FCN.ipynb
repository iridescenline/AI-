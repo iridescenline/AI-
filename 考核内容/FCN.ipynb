{
 "cells": [
  {
   "cell_type": "code",
   "execution_count": 1,
   "id": "e0419724-e558-4290-b9b4-ef5f9b77ef68",
   "metadata": {},
   "outputs": [],
   "source": [
    "%matplotlib inline\n",
    "import torch\n",
    "import torchvision\n",
    "from torch import nn\n",
    "from torch.nn import functional as F\n",
    "from d2l import torch as d2l"
   ]
  },
  {
   "cell_type": "markdown",
   "id": "9e1a2041-ec48-459b-9517-57d3a1f80cc7",
   "metadata": {},
   "source": [
    "### 使用在ImageNet数据集上预训练的ResNet-18模型来提取图像特征"
   ]
  },
  {
   "cell_type": "code",
   "execution_count": 2,
   "id": "5b42dd5a-6450-40dd-8b32-308e9e29886e",
   "metadata": {},
   "outputs": [
    {
     "name": "stderr",
     "output_type": "stream",
     "text": [
      "C:\\Users\\eyrine\\anaconda3\\envs\\pytorch\\lib\\site-packages\\torchvision\\models\\_utils.py:208: UserWarning: The parameter 'pretrained' is deprecated since 0.13 and may be removed in the future, please use 'weights' instead.\n",
      "  warnings.warn(\n",
      "C:\\Users\\eyrine\\anaconda3\\envs\\pytorch\\lib\\site-packages\\torchvision\\models\\_utils.py:223: UserWarning: Arguments other than a weight enum or `None` for 'weights' are deprecated since 0.13 and may be removed in the future. The current behavior is equivalent to passing `weights=ResNet18_Weights.IMAGENET1K_V1`. You can also use `weights=ResNet18_Weights.DEFAULT` to get the most up-to-date weights.\n",
      "  warnings.warn(msg)\n"
     ]
    },
    {
     "data": {
      "text/plain": [
       "[Sequential(\n",
       "   (0): BasicBlock(\n",
       "     (conv1): Conv2d(256, 512, kernel_size=(3, 3), stride=(2, 2), padding=(1, 1), bias=False)\n",
       "     (bn1): BatchNorm2d(512, eps=1e-05, momentum=0.1, affine=True, track_running_stats=True)\n",
       "     (relu): ReLU(inplace=True)\n",
       "     (conv2): Conv2d(512, 512, kernel_size=(3, 3), stride=(1, 1), padding=(1, 1), bias=False)\n",
       "     (bn2): BatchNorm2d(512, eps=1e-05, momentum=0.1, affine=True, track_running_stats=True)\n",
       "     (downsample): Sequential(\n",
       "       (0): Conv2d(256, 512, kernel_size=(1, 1), stride=(2, 2), bias=False)\n",
       "       (1): BatchNorm2d(512, eps=1e-05, momentum=0.1, affine=True, track_running_stats=True)\n",
       "     )\n",
       "   )\n",
       "   (1): BasicBlock(\n",
       "     (conv1): Conv2d(512, 512, kernel_size=(3, 3), stride=(1, 1), padding=(1, 1), bias=False)\n",
       "     (bn1): BatchNorm2d(512, eps=1e-05, momentum=0.1, affine=True, track_running_stats=True)\n",
       "     (relu): ReLU(inplace=True)\n",
       "     (conv2): Conv2d(512, 512, kernel_size=(3, 3), stride=(1, 1), padding=(1, 1), bias=False)\n",
       "     (bn2): BatchNorm2d(512, eps=1e-05, momentum=0.1, affine=True, track_running_stats=True)\n",
       "   )\n",
       " ),\n",
       " AdaptiveAvgPool2d(output_size=(1, 1)),\n",
       " Linear(in_features=512, out_features=1000, bias=True)]"
      ]
     },
     "execution_count": 2,
     "metadata": {},
     "output_type": "execute_result"
    }
   ],
   "source": [
    "# 加载了预训练的 ResNet-18 模型，并显示了模型的最后三个子模块。\n",
    "pretrained_net=torchvision.models.resnet18(pretrained=True)\n",
    "list(pretrained_net.children())[-3:]"
   ]
  },
  {
   "cell_type": "code",
   "execution_count": 3,
   "id": "d2b187a2-3150-42e3-91e6-fafd940de3b4",
   "metadata": {},
   "outputs": [
    {
     "data": {
      "text/plain": [
       "torch.Size([1, 512, 10, 15])"
      ]
     },
     "execution_count": 3,
     "metadata": {},
     "output_type": "execute_result"
    }
   ],
   "source": [
    "#不要最后两层\n",
    "net=nn.Sequential(*list(pretrained_net.children())[:-2])\n",
    "                  \n",
    "X = torch.rand(size=(1,3,320,480))\n",
    "net(X).shape"
   ]
  },
  {
   "cell_type": "markdown",
   "id": "bba11f20-9d03-424d-8191-ed6d9999cb1a",
   "metadata": {},
   "source": [
    "### 使用1x1卷积层将输出通道数转换为PascalVOC2012数据集的类数（21类）。将要素地图的高宽和宽度增加32倍。"
   ]
  },
  {
   "cell_type": "code",
   "execution_count": 4,
   "id": "fbaf8c0a-256f-46a9-924d-6f0c05c3b60b",
   "metadata": {},
   "outputs": [],
   "source": [
    "num_classes=21\n",
    "net.add_module('final_conv',nn.Conv2d(512,num_classes,kernel_size=1))\n",
    "net.add_module('transpose_conv',\n",
    "               nn.ConvTranspose2d(\n",
    "                   num_classes,num_classes,\n",
    "                   kernel_size=64,padding=16,\n",
    "                   stride=32))"
   ]
  },
  {
   "cell_type": "markdown",
   "id": "f4a1c42e-cfe3-4fb6-aace-fa7fd381c07b",
   "metadata": {},
   "source": [
    "### 初始化转置卷积层"
   ]
  },
  {
   "cell_type": "markdown",
   "id": "252df154-5f67-4358-86d5-606f15b4e033",
   "metadata": {},
   "source": [
    "双线性插值（bilinear interpolation） 是常用的上采样方法之一，它也经常用于初始化转置卷积层。\n",
    "为了解释双线性插值，假设给定输入图像，我们想要计算上采样输出图像上的每个像素。\n",
    "\n",
    "1.将输出图像的坐标(x,y)映射到输入图像的坐标(x',y')上。 例如，根据输入与输出的尺寸之比来映射。 请注意，映射后的x'和y'是实数。\n",
    "2.在输入图像上找到离坐标(x',y')最近的4个像素。\n",
    "3.输出图像在坐标(x,y)上的像素依据输入图像上这4个像素及其与(x',y')的相对距离来计算。\n",
    "\n",
    "双线性插值的上采样可以通过转置卷积层实现，内核由以下bilinear_kernel函数构造。"
   ]
  },
  {
   "cell_type": "code",
   "execution_count": 5,
   "id": "078dd224-966d-4adb-b753-742b2ec6597d",
   "metadata": {},
   "outputs": [],
   "source": [
    "def bilinear_kernel(in_channels,out_channels,kernel_size):\n",
    "    # 计算中心点\n",
    "    # 计算卷积核的中心位置，对于奇数大小的卷积核，中心是一个像素；对于偶数大小的卷积核，中心在两个像素之间\n",
    "    factor=(kernel_size+1)//2\n",
    "    if kernel_size%2==1:\n",
    "        center=factor-1\n",
    "    else:\n",
    "        center=factor-0.5\n",
    "    # 生成滤波器\n",
    "    # 使用torch.arange创建了一个坐标网格og，然后计算了双线性插值滤波器filt。\n",
    "    # 该滤波器的每个元素表示在该位置的权重，通过计算距离中心的相对位置来获得\n",
    "    og=(torch.arange(kernel_size).reshape(-1,1),\n",
    "        torch.arange(kernel_size).reshape(1,-1))\n",
    "    filt=(1-torch.abs(og[0]-center)/factor)*\\\n",
    "         (1-torch.abs(og[1]-center)/factor)\n",
    "    #创建一个形状为 (in_channels, out_channels, kernel_size, kernel_size) \n",
    "    #的权重张量，并将生成的滤波器填充到权重张量中。\n",
    "    weight=torch.zeros((in_channels,out_channels,\n",
    "                        kernel_size,kernel_size))\n",
    "    weight=torch.zeros((in_channels,out_channels,\n",
    "                        kernel_size,kernel_size))\n",
    "    weight[range(in_channels),range(out_channels),:,:]=filt\n",
    "    return weight;"
   ]
  },
  {
   "cell_type": "code",
   "execution_count": 6,
   "id": "dc438229-682a-4d13-8dec-453a5b86fb4b",
   "metadata": {},
   "outputs": [],
   "source": [
    "#我们构造一个将输入的高和宽放大2倍的转置卷积层，并将其卷积核用bilinear_kernel函数初始化。\n",
    "conv_trans=nn.ConvTranspose2d(3,3,kernel_size=4,padding=1,stride=2,\n",
    "                              bias=False)\n",
    "conv_trans.weight.data.copy_(bilinear_kernel(3,3,4));"
   ]
  },
  {
   "cell_type": "code",
   "execution_count": 7,
   "id": "6a179696-3435-4cf8-a0f6-72130b1eb445",
   "metadata": {},
   "outputs": [
    {
     "ename": "FileNotFoundError",
     "evalue": "[Errno 2] No such file or directory: '../img/catdog.jpg'",
     "output_type": "error",
     "traceback": [
      "\u001b[1;31m---------------------------------------------------------------------------\u001b[0m",
      "\u001b[1;31mFileNotFoundError\u001b[0m                         Traceback (most recent call last)",
      "Cell \u001b[1;32mIn[7], line 1\u001b[0m\n\u001b[1;32m----> 1\u001b[0m img \u001b[38;5;241m=\u001b[39m torchvision\u001b[38;5;241m.\u001b[39mtransforms\u001b[38;5;241m.\u001b[39mToTensor()(\u001b[43md2l\u001b[49m\u001b[38;5;241;43m.\u001b[39;49m\u001b[43mImage\u001b[49m\u001b[38;5;241;43m.\u001b[39;49m\u001b[43mopen\u001b[49m\u001b[43m(\u001b[49m\u001b[38;5;124;43m'\u001b[39;49m\u001b[38;5;124;43m../img/catdog.jpg\u001b[39;49m\u001b[38;5;124;43m'\u001b[39;49m\u001b[43m)\u001b[49m)\n\u001b[0;32m      2\u001b[0m X \u001b[38;5;241m=\u001b[39m img\u001b[38;5;241m.\u001b[39munsqueeze(\u001b[38;5;241m0\u001b[39m)\n\u001b[0;32m      3\u001b[0m Y \u001b[38;5;241m=\u001b[39m conv_trans(X)\n",
      "File \u001b[1;32m~\\anaconda3\\envs\\pytorch\\lib\\site-packages\\PIL\\Image.py:3247\u001b[0m, in \u001b[0;36mopen\u001b[1;34m(fp, mode, formats)\u001b[0m\n\u001b[0;32m   3244\u001b[0m     filename \u001b[38;5;241m=\u001b[39m fp\n\u001b[0;32m   3246\u001b[0m \u001b[38;5;28;01mif\u001b[39;00m filename:\n\u001b[1;32m-> 3247\u001b[0m     fp \u001b[38;5;241m=\u001b[39m \u001b[43mbuiltins\u001b[49m\u001b[38;5;241;43m.\u001b[39;49m\u001b[43mopen\u001b[49m\u001b[43m(\u001b[49m\u001b[43mfilename\u001b[49m\u001b[43m,\u001b[49m\u001b[43m \u001b[49m\u001b[38;5;124;43m\"\u001b[39;49m\u001b[38;5;124;43mrb\u001b[39;49m\u001b[38;5;124;43m\"\u001b[39;49m\u001b[43m)\u001b[49m\n\u001b[0;32m   3248\u001b[0m     exclusive_fp \u001b[38;5;241m=\u001b[39m \u001b[38;5;28;01mTrue\u001b[39;00m\n\u001b[0;32m   3250\u001b[0m \u001b[38;5;28;01mtry\u001b[39;00m:\n",
      "\u001b[1;31mFileNotFoundError\u001b[0m: [Errno 2] No such file or directory: '../img/catdog.jpg'"
     ]
    }
   ],
   "source": [
    "img = torchvision.transforms.ToTensor()(d2l.Image.open('../img/catdog.jpg'))\n",
    "X = img.unsqueeze(0)\n",
    "Y = conv_trans(X)\n",
    "out_img = Y[0].permute(1, 2, 0).detach()"
   ]
  },
  {
   "cell_type": "code",
   "execution_count": null,
   "id": "513c8a71-ad50-4dba-b3e2-2c502b33497f",
   "metadata": {},
   "outputs": [],
   "source": [
    "d2l.set_figsize()\n",
    "print('input image shape:', img.permute(1, 2, 0).shape)\n",
    "d2l.plt.imshow(img.permute(1, 2, 0));\n",
    "print('output image shape:', out_img.shape)\n",
    "d2l.plt.imshow(out_img);"
   ]
  },
  {
   "cell_type": "code",
   "execution_count": null,
   "id": "a144406a-e5d7-41fc-85a0-e4501a886ef8",
   "metadata": {},
   "outputs": [],
   "source": [
    "W = bilinear_kernel(num_classes, num_classes, 64)\n",
    "net.transpose_conv.weight.data.copy_(W);"
   ]
  }
 ],
 "metadata": {
  "kernelspec": {
   "display_name": "Python 3 (ipykernel)",
   "language": "python",
   "name": "python3"
  },
  "language_info": {
   "codemirror_mode": {
    "name": "ipython",
    "version": 3
   },
   "file_extension": ".py",
   "mimetype": "text/x-python",
   "name": "python",
   "nbconvert_exporter": "python",
   "pygments_lexer": "ipython3",
   "version": "3.9.20"
  }
 },
 "nbformat": 4,
 "nbformat_minor": 5
}

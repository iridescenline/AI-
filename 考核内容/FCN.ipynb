{
 "cells": [
  {
   "cell_type": "code",
   "execution_count": 1,
   "id": "e0419724-e558-4290-b9b4-ef5f9b77ef68",
   "metadata": {},
   "outputs": [],
   "source": [
    "%matplotlib inline\n",
    "import torch\n",
    "import torchvision\n",
    "from torch import nn\n",
    "from torch.nn import functional as F\n",
    "from d2l import torch as d2l"
   ]
  },
  {
   "cell_type": "markdown",
   "id": "9e1a2041-ec48-459b-9517-57d3a1f80cc7",
   "metadata": {},
   "source": [
    "### 使用在ImageNet数据集上预训练的ResNet-18模型来提取图像特征"
   ]
  },
  {
   "cell_type": "code",
   "execution_count": 2,
   "id": "5b42dd5a-6450-40dd-8b32-308e9e29886e",
   "metadata": {},
   "outputs": [
    {
     "name": "stderr",
     "output_type": "stream",
     "text": [
      "C:\\Users\\eyrine\\anaconda3\\envs\\pytorch\\lib\\site-packages\\torchvision\\models\\_utils.py:208: UserWarning: The parameter 'pretrained' is deprecated since 0.13 and may be removed in the future, please use 'weights' instead.\n",
      "  warnings.warn(\n",
      "C:\\Users\\eyrine\\anaconda3\\envs\\pytorch\\lib\\site-packages\\torchvision\\models\\_utils.py:223: UserWarning: Arguments other than a weight enum or `None` for 'weights' are deprecated since 0.13 and may be removed in the future. The current behavior is equivalent to passing `weights=ResNet18_Weights.IMAGENET1K_V1`. You can also use `weights=ResNet18_Weights.DEFAULT` to get the most up-to-date weights.\n",
      "  warnings.warn(msg)\n",
      "Downloading: \"https://download.pytorch.org/models/resnet18-f37072fd.pth\" to C:\\Users\\eyrine/.cache\\torch\\hub\\checkpoints\\resnet18-f37072fd.pth\n",
      "100.0%\n"
     ]
    },
    {
     "data": {
      "text/plain": [
       "[Sequential(\n",
       "   (0): BasicBlock(\n",
       "     (conv1): Conv2d(256, 512, kernel_size=(3, 3), stride=(2, 2), padding=(1, 1), bias=False)\n",
       "     (bn1): BatchNorm2d(512, eps=1e-05, momentum=0.1, affine=True, track_running_stats=True)\n",
       "     (relu): ReLU(inplace=True)\n",
       "     (conv2): Conv2d(512, 512, kernel_size=(3, 3), stride=(1, 1), padding=(1, 1), bias=False)\n",
       "     (bn2): BatchNorm2d(512, eps=1e-05, momentum=0.1, affine=True, track_running_stats=True)\n",
       "     (downsample): Sequential(\n",
       "       (0): Conv2d(256, 512, kernel_size=(1, 1), stride=(2, 2), bias=False)\n",
       "       (1): BatchNorm2d(512, eps=1e-05, momentum=0.1, affine=True, track_running_stats=True)\n",
       "     )\n",
       "   )\n",
       "   (1): BasicBlock(\n",
       "     (conv1): Conv2d(512, 512, kernel_size=(3, 3), stride=(1, 1), padding=(1, 1), bias=False)\n",
       "     (bn1): BatchNorm2d(512, eps=1e-05, momentum=0.1, affine=True, track_running_stats=True)\n",
       "     (relu): ReLU(inplace=True)\n",
       "     (conv2): Conv2d(512, 512, kernel_size=(3, 3), stride=(1, 1), padding=(1, 1), bias=False)\n",
       "     (bn2): BatchNorm2d(512, eps=1e-05, momentum=0.1, affine=True, track_running_stats=True)\n",
       "   )\n",
       " ),\n",
       " AdaptiveAvgPool2d(output_size=(1, 1)),\n",
       " Linear(in_features=512, out_features=1000, bias=True)]"
      ]
     },
     "execution_count": 2,
     "metadata": {},
     "output_type": "execute_result"
    }
   ],
   "source": [
    "# 加载了预训练的 ResNet-18 模型，并显示了模型的最后三个子模块。\n",
    "pretrained_net=torchvision.models.resnet18(pretrained=True)\n",
    "list(pretrained_net.children())[-3:]"
   ]
  },
  {
   "cell_type": "code",
   "execution_count": 5,
   "id": "d2b187a2-3150-42e3-91e6-fafd940de3b4",
   "metadata": {},
   "outputs": [
    {
     "data": {
      "text/plain": [
       "torch.Size([1, 512, 10, 15])"
      ]
     },
     "execution_count": 5,
     "metadata": {},
     "output_type": "execute_result"
    }
   ],
   "source": [
    "#不要最后两层\n",
    "net=nn.Sequential(*list(pretrained_net.children())[:-2])\n",
    "                  \n",
    "X = torch.rand(size=(1,3,320,480))\n",
    "net(X).shape"
   ]
  },
  {
   "cell_type": "markdown",
   "id": "bba11f20-9d03-424d-8191-ed6d9999cb1a",
   "metadata": {},
   "source": [
    "### 使用1x1卷积层将输出通道数转换为PascalVOC2012数据集的类数（21类）。将要素地图的高宽和宽度增加32倍。"
   ]
  },
  {
   "cell_type": "code",
   "execution_count": null,
   "id": "fbaf8c0a-256f-46a9-924d-6f0c05c3b60b",
   "metadata": {},
   "outputs": [],
   "source": [
    "num_classed=21\n",
    "net.add_module('final_conv',nn.Conv2d(512,num_classes,kernel_size=1))\n",
    "net.add_module('transpose_conv',\n",
    "               nn.ConvTranspose2d(\n",
    "                   num_classes,num_classes,\n",
    "                   kernel_size=64,padding=16,\n",
    "                   stride=32))"
   ]
  },
  {
   "cell_type": "markdown",
   "id": "f4a1c42e-cfe3-4fb6-aace-fa7fd381c07b",
   "metadata": {},
   "source": [
    "### 初始化转置卷积层"
   ]
  },
  {
   "cell_type": "code",
   "execution_count": null,
   "id": "078dd224-966d-4adb-b753-742b2ec6597d",
   "metadata": {},
   "outputs": [],
   "source": [
    "# 双线性差值实现核\n",
    "def bilinear_kernel(in_channels,out_channels,kernel_size):\n",
    "    factor=(kernel_size+1)//2\n",
    "    if kernel_sizs%2==1:\n",
    "        center=factor-1\n",
    "    else:\n",
    "        center=factor-0.5\n",
    "    og=(torch.arrange(kernel_size).reshape(-1,"
   ]
  }
 ],
 "metadata": {
  "kernelspec": {
   "display_name": "Python 3 (ipykernel)",
   "language": "python",
   "name": "python3"
  },
  "language_info": {
   "codemirror_mode": {
    "name": "ipython",
    "version": 3
   },
   "file_extension": ".py",
   "mimetype": "text/x-python",
   "name": "python",
   "nbconvert_exporter": "python",
   "pygments_lexer": "ipython3",
   "version": "3.9.20"
  }
 },
 "nbformat": 4,
 "nbformat_minor": 5
}

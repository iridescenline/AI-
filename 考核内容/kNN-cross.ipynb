{
 "cells": [
  {
   "cell_type": "code",
   "execution_count": 1,
   "id": "57ba2cdf-0767-4e79-8908-9d7e09b60bba",
   "metadata": {},
   "outputs": [
    {
     "name": "stdout",
     "output_type": "stream",
     "text": [
      "最佳 k 值: 6，平均准确率: 0.980\n"
     ]
    }
   ],
   "source": [
    "from sklearn import datasets\n",
    "from sklearn.model_selection import train_test_split, cross_val_score\n",
    "from sklearn.neighbors import KNeighborsClassifier  #直接使用 KNeighborsClassifier，因为它已经实现了 KNN，并且提供了方便的接口进行交叉验证\n",
    "import numpy as np\n",
    "\n",
    "# 加载数据集\n",
    "iris = datasets.load_iris() \n",
    "X = iris.data\n",
    "y = iris.target\n",
    "\n",
    "# 设置 k 的范围\n",
    "k_values = range(1, 11) #定义了一个从 1 到 10 的 k值范围\n",
    "mean_accuracies = []\n",
    "\n",
    "# 对每个 k 值创建一个 KNeighborsClassifier 实例，进行 5 折交叉验证，并记录每个 𝑘 值 的平均准确率。\n",
    "for k in k_values:\n",
    "    knn = KNeighborsClassifier(n_neighbors=k)\n",
    "    scores = cross_val_score(knn, X, y, cv=5)  # 5折交叉验证\n",
    "    mean_accuracies.append(scores.mean())\n",
    "\n",
    "# 找到最佳 k 值\n",
    "best_k = k_values[np.argmax(mean_accuracies)]\n",
    "best_accuracy = max(mean_accuracies)\n",
    "\n",
    "print(f\"最佳 k 值: {best_k}，平均准确率: {best_accuracy:.3f}\")"
   ]
  },
  {
   "cell_type": "code",
   "execution_count": null,
   "id": "14b6f7f9-1357-454f-96ba-0bda4e5ed99a",
   "metadata": {},
   "outputs": [],
   "source": []
  }
 ],
 "metadata": {
  "kernelspec": {
   "display_name": "Python 3 (ipykernel)",
   "language": "python",
   "name": "python3"
  },
  "language_info": {
   "codemirror_mode": {
    "name": "ipython",
    "version": 3
   },
   "file_extension": ".py",
   "mimetype": "text/x-python",
   "name": "python",
   "nbconvert_exporter": "python",
   "pygments_lexer": "ipython3",
   "version": "3.12.4"
  }
 },
 "nbformat": 4,
 "nbformat_minor": 5
}

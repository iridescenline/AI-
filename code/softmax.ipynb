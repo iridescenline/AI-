{
 "cells": [
  {
   "cell_type": "markdown",
   "id": "79769c46-f499-4d45-a83c-ea3ee0aa33f9",
   "metadata": {},
   "source": [
    "从零开始实现softmax回归"
   ]
  },
  {
   "cell_type": "code",
   "execution_count": 1,
   "id": "b9d73a56-16aa-47ee-87d8-c77c7f18c1b0",
   "metadata": {},
   "outputs": [],
   "source": [
    "import torch\n",
    "from IPython import display\n",
    "from d2l import torch as d2l\n",
    "\n",
    "batch_size=256\n",
    "train_iter,test_iter=d2l.load_data_fashion_mnist(batch_size)"
   ]
  },
  {
   "cell_type": "markdown",
   "id": "e8d186ea-141a-43c2-8b25-f354647a355d",
   "metadata": {},
   "source": [
    "展平每个图像，将它们视为长度784的向量。因为数据集有10个类别，所以输出维度为10"
   ]
  },
  {
   "cell_type": "code",
   "execution_count": 2,
   "id": "f78c8fae-dd65-4933-a2bf-08c383452c0a",
   "metadata": {},
   "outputs": [],
   "source": [
    "num_inputs=784\n",
    "num_outputs=10\n",
    "\n",
    "W=torch.normal(0,0.01,size=(num_inputs,num_outputs),requires_grad=True) # (权重设置为高斯随机分布的值）均值为0,方差为0.01\n",
    "b=torch.zeros(num_outputs,requires_grad=True)"
   ]
  },
  {
   "cell_type": "markdown",
   "id": "2a0cdb0f-0949-45f4-a9c5-a3d8c060106d",
   "metadata": {},
   "source": [
    "给定一个矩阵X，我们可以对所有元素求和"
   ]
  },
  {
   "cell_type": "code",
   "execution_count": 3,
   "id": "6b23d6a9-ec35-453d-9ba6-760827968b96",
   "metadata": {},
   "outputs": [
    {
     "data": {
      "text/plain": [
       "(tensor([[5., 7., 9.]]),\n",
       " tensor([[ 6.],\n",
       "         [15.]]))"
      ]
     },
     "execution_count": 3,
     "metadata": {},
     "output_type": "execute_result"
    }
   ],
   "source": [
    "X=torch.tensor([[1.0,2.0,3.0],[4.0,5.0,6.0]])\n",
    "X.sum(0,keepdim=True),X.sum(1,keepdim=True)#按行, 按列"
   ]
  },
  {
   "cell_type": "markdown",
   "id": "99b68a42-ad8c-437d-9376-e50748a301dc",
   "metadata": {},
   "source": [
    "实现softmax"
   ]
  },
  {
   "cell_type": "code",
   "execution_count": 4,
   "id": "2594fe82-6c61-4efc-b392-8cfa7e617338",
   "metadata": {},
   "outputs": [],
   "source": [
    "def softmax(X):\n",
    "    X_exp=torch.exp(X)\n",
    "    partition=X_exp.sum(1,keepdim=True)\n",
    "    return X_exp/partition      #这里用了广播机制`"
   ]
  },
  {
   "cell_type": "code",
   "execution_count": 5,
   "id": "4315dd28-30f4-4baa-9e41-c6c601ffae40",
   "metadata": {},
   "outputs": [
    {
     "data": {
      "text/plain": [
       "(tensor([[0.0525, 0.3028, 0.2080, 0.2249, 0.2118],\n",
       "         [0.3593, 0.0717, 0.2108, 0.2130, 0.1451]]),\n",
       " tensor([1., 1.]))"
      ]
     },
     "execution_count": 5,
     "metadata": {},
     "output_type": "execute_result"
    }
   ],
   "source": [
    "X=torch.normal(0,1,(2,5))\n",
    "#在 PyTorch 中生成一个形状为 (2, 5) 的张量 X，其中每个元素都是从均值为 0、标准差为 1 的正态分布（高斯分布）中随机抽取的。\n",
    "X_prob=softmax(X)\n",
    "X_prob,X_prob.sum(1)"
   ]
  },
  {
   "cell_type": "code",
   "execution_count": 6,
   "id": "b5033147-a78f-46d2-bf93-b928e59b62c0",
   "metadata": {},
   "outputs": [],
   "source": [
    "def net(X):\n",
    "    return softmax(torch.matmul(X.reshape((-1,W.shape[0])),W)+b)\n",
    "    #(-1,W.shape[0])表示把X初始化为[batch_size,W行数）\n",
    "    #然后和W相乘，得到(batch_size,W列数)的矩阵\n",
    "    #最后加上b ，b的形状应该是(W列数, 1)"
   ]
  },
  {
   "cell_type": "code",
   "execution_count": 7,
   "id": "618990dc-7c04-48d4-b8fa-f2dbda7ff47a",
   "metadata": {},
   "outputs": [
    {
     "data": {
      "text/plain": [
       "tensor([0.1000, 0.5000])"
      ]
     },
     "execution_count": 7,
     "metadata": {},
     "output_type": "execute_result"
    }
   ],
   "source": [
    "y=torch.tensor([0,2])\n",
    "y_hat=torch.tensor([[0.1,0.3,0.6],[0.3,0.2,0.5]])\n",
    "y_hat[[0,1],y] \n",
    "#[0,1]取得第0号，第1号元素，分别是0和2，然后把0，2带入y_hat索引取（0，0 "
   ]
  },
  {
   "cell_type": "markdown",
   "id": "4fc88d0c-e0cb-49f3-a932-07adafbcbbce",
   "metadata": {},
   "source": [
    "实现交叉熵损失函数"
   ]
  },
  {
   "cell_type": "code",
   "execution_count": 8,
   "id": "3809926d-697e-4706-b301-5a24f9cb8ec5",
   "metadata": {},
   "outputs": [
    {
     "data": {
      "text/plain": [
       "tensor([2.3026, 0.6931])"
      ]
     },
     "execution_count": 8,
     "metadata": {},
     "output_type": "execute_result"
    }
   ],
   "source": [
    "def cross_entropy(y_hat,y):\n",
    "    return -torch.log(y_hat[range(len(y_hat)),y])\n",
    "cross_entropy(y_hat,y)\n",
    "#输出第一个代表样本0的损失,第二个代表样本1的损失。"
   ]
  },
  {
   "cell_type": "markdown",
   "id": "088280d7-c326-4945-8cf1-34f2d12f8801",
   "metadata": {},
   "source": [
    "将预测类别与真实y元素进行比较"
   ]
  },
  {
   "cell_type": "code",
   "execution_count": 9,
   "id": "1f71429d-c306-4848-a429-4264714d7c08",
   "metadata": {},
   "outputs": [
    {
     "data": {
      "text/plain": [
       "0.5"
      ]
     },
     "execution_count": 9,
     "metadata": {},
     "output_type": "execute_result"
    }
   ],
   "source": [
    "# accuracy函数用来求出被正确分类的样本数\n",
    "def accuracy(y_hat,y):\n",
    "    if len(y_hat.shape)>1 and y_hat.shape[1]>1:\n",
    "        y_hat=y_hat.argmax(axis=1)\n",
    "    cmp=y_hat.type(y.dtype)==y #把y_hat类型转成和y一致，再与y进行比较\n",
    "    return float(cmp.type(y.dtype).sum())\n",
    "\n",
    "accuracy(y_hat,y)/len(y)"
   ]
  },
  {
   "cell_type": "markdown",
   "id": "f8979910-4a9d-42c5-8c79-b686e13ab096",
   "metadata": {},
   "source": [
    "我们也可以评估在任意模型net的准确率"
   ]
  },
  {
   "cell_type": "code",
   "execution_count": 10,
   "id": "0d513fd6-2fc2-4b1f-b617-4aaa486091dd",
   "metadata": {},
   "outputs": [],
   "source": [
    "def evaluate_accuracy(net,data_iter):\n",
    "    # 计算在指定数据集上模型的精度\n",
    "    if isinstance(net,torch.nn.Module):\n",
    "        net.eval()\n",
    "    metric=Accumulator(2)\n",
    "    for X,y in data_iter:\n",
    "        metric.add(accuracy(net(X),y),y.numel())\n",
    "    return metric[0]/metric[1]"
   ]
  },
  {
   "cell_type": "code",
   "execution_count": 11,
   "id": "4895ec4b-b73f-45f1-be44-20836a116352",
   "metadata": {},
   "outputs": [
    {
     "data": {
      "text/plain": [
       "0.0975"
      ]
     },
     "execution_count": 11,
     "metadata": {},
     "output_type": "execute_result"
    }
   ],
   "source": [
    "class Accumulator:\n",
    "    def __init__(self,n):\n",
    "        self.data=[0.0]*n\n",
    "        \n",
    "    def add(self,*args):\n",
    "        self.data=[a+float(b) for a,b in zip(self.data,args)]\n",
    "        \n",
    "    def reset(self):\n",
    "        self.data=[0.0]*len(self.data)\n",
    "        \n",
    "    def __getitem__(self,idx):\n",
    "        return self.data[idx]\n",
    "        \n",
    "evaluate_accuracy(net,test_iter)"
   ]
  },
  {
   "cell_type": "code",
   "execution_count": null,
   "id": "fbd892bf-88cf-4f61-aea9-e1b934bee19f",
   "metadata": {},
   "outputs": [],
   "source": []
  }
 ],
 "metadata": {
  "kernelspec": {
   "display_name": "Python 3 (ipykernel)",
   "language": "python",
   "name": "python3"
  },
  "language_info": {
   "codemirror_mode": {
    "name": "ipython",
    "version": 3
   },
   "file_extension": ".py",
   "mimetype": "text/x-python",
   "name": "python",
   "nbconvert_exporter": "python",
   "pygments_lexer": "ipython3",
   "version": "3.9.20"
  }
 },
 "nbformat": 4,
 "nbformat_minor": 5
}

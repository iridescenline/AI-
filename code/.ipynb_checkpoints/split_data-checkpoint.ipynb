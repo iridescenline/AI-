{
 "cells": [
  {
   "cell_type": "code",
   "execution_count": 1,
   "id": "77cd43d3-2245-49e6-95d7-ea64ecaaad4d",
   "metadata": {},
   "outputs": [
    {
     "ename": "AssertionError",
     "evalue": "path 'C:\\Users\\eyrine\\Desktop\\this Semester\\obsidian note\\note\\AI笔记\\code\\flower_data\\flower_photos' does not exist.",
     "output_type": "error",
     "traceback": [
      "\u001b[1;31m---------------------------------------------------------------------------\u001b[0m",
      "\u001b[1;31mAssertionError\u001b[0m                            Traceback (most recent call last)",
      "Cell \u001b[1;32mIn[1], line 67\u001b[0m\n\u001b[0;32m     63\u001b[0m     \u001b[38;5;28mprint\u001b[39m(\u001b[38;5;124m\"\u001b[39m\u001b[38;5;124mprocessing done!\u001b[39m\u001b[38;5;124m\"\u001b[39m)\n\u001b[0;32m     66\u001b[0m \u001b[38;5;28;01mif\u001b[39;00m \u001b[38;5;18m__name__\u001b[39m \u001b[38;5;241m==\u001b[39m \u001b[38;5;124m'\u001b[39m\u001b[38;5;124m__main__\u001b[39m\u001b[38;5;124m'\u001b[39m:\n\u001b[1;32m---> 67\u001b[0m     \u001b[43mmain\u001b[49m\u001b[43m(\u001b[49m\u001b[43m)\u001b[49m\n",
      "Cell \u001b[1;32mIn[1], line 24\u001b[0m, in \u001b[0;36mmain\u001b[1;34m()\u001b[0m\n\u001b[0;32m     22\u001b[0m data_root \u001b[38;5;241m=\u001b[39m os\u001b[38;5;241m.\u001b[39mpath\u001b[38;5;241m.\u001b[39mjoin(cwd, \u001b[38;5;124m\"\u001b[39m\u001b[38;5;124mflower_data\u001b[39m\u001b[38;5;124m\"\u001b[39m)\n\u001b[0;32m     23\u001b[0m origin_flower_path \u001b[38;5;241m=\u001b[39m os\u001b[38;5;241m.\u001b[39mpath\u001b[38;5;241m.\u001b[39mjoin(data_root, \u001b[38;5;124m\"\u001b[39m\u001b[38;5;124mflower_photos\u001b[39m\u001b[38;5;124m\"\u001b[39m)\n\u001b[1;32m---> 24\u001b[0m \u001b[38;5;28;01massert\u001b[39;00m os\u001b[38;5;241m.\u001b[39mpath\u001b[38;5;241m.\u001b[39mexists(origin_flower_path), \u001b[38;5;124m\"\u001b[39m\u001b[38;5;124mpath \u001b[39m\u001b[38;5;124m'\u001b[39m\u001b[38;5;132;01m{}\u001b[39;00m\u001b[38;5;124m'\u001b[39m\u001b[38;5;124m does not exist.\u001b[39m\u001b[38;5;124m\"\u001b[39m\u001b[38;5;241m.\u001b[39mformat(origin_flower_path)\n\u001b[0;32m     26\u001b[0m flower_class \u001b[38;5;241m=\u001b[39m [cla \u001b[38;5;28;01mfor\u001b[39;00m cla \u001b[38;5;129;01min\u001b[39;00m os\u001b[38;5;241m.\u001b[39mlistdir(origin_flower_path)\n\u001b[0;32m     27\u001b[0m                 \u001b[38;5;28;01mif\u001b[39;00m os\u001b[38;5;241m.\u001b[39mpath\u001b[38;5;241m.\u001b[39misdir(os\u001b[38;5;241m.\u001b[39mpath\u001b[38;5;241m.\u001b[39mjoin(origin_flower_path, cla))]\n\u001b[0;32m     29\u001b[0m \u001b[38;5;66;03m# 建立保存训练集的文件夹\u001b[39;00m\n",
      "\u001b[1;31mAssertionError\u001b[0m: path 'C:\\Users\\eyrine\\Desktop\\this Semester\\obsidian note\\note\\AI笔记\\code\\flower_data\\flower_photos' does not exist."
     ]
    }
   ],
   "source": [
    "import os\n",
    "from shutil import copy, rmtree\n",
    "import random\n",
    "\n",
    "\n",
    "def mk_file(file_path: str):\n",
    "    if os.path.exists(file_path):\n",
    "        # 如果文件夹存在，则先删除原文件夹在重新创建\n",
    "        rmtree(file_path)\n",
    "    os.makedirs(file_path)\n",
    "\n",
    "\n",
    "def main():\n",
    "    # 保证随机可复现\n",
    "    random.seed(0)\n",
    "\n",
    "    # 将数据集中10%的数据划分到验证集中\n",
    "    split_rate = 0.1\n",
    "\n",
    "    # 指向你解压后的flower_photos文件夹\n",
    "    cwd = os.getcwd()\n",
    "    data_root = os.path.join(cwd, \"flower_data\")\n",
    "    origin_flower_path = os.path.join(data_root, \"flower_photos\")\n",
    "    assert os.path.exists(origin_flower_path), \"path '{}' does not exist.\".format(origin_flower_path)\n",
    "\n",
    "    flower_class = [cla for cla in os.listdir(origin_flower_path)\n",
    "                    if os.path.isdir(os.path.join(origin_flower_path, cla))]\n",
    "\n",
    "    # 建立保存训练集的文件夹\n",
    "    train_root = os.path.join(data_root, \"train\")\n",
    "    mk_file(train_root)\n",
    "    for cla in flower_class:\n",
    "        # 建立每个类别对应的文件夹\n",
    "        mk_file(os.path.join(train_root, cla))\n",
    "\n",
    "    # 建立保存验证集的文件夹\n",
    "    val_root = os.path.join(data_root, \"val\")\n",
    "    mk_file(val_root)\n",
    "    for cla in flower_class:\n",
    "        # 建立每个类别对应的文件夹\n",
    "        mk_file(os.path.join(val_root, cla))\n",
    "\n",
    "    for cla in flower_class:\n",
    "        cla_path = os.path.join(origin_flower_path, cla)\n",
    "        images = os.listdir(cla_path)\n",
    "        num = len(images)\n",
    "        # 随机采样验证集的索引\n",
    "        eval_index = random.sample(images, k=int(num*split_rate))\n",
    "        for index, image in enumerate(images):\n",
    "            if image in eval_index:\n",
    "                # 将分配至验证集中的文件复制到相应目录\n",
    "                image_path = os.path.join(cla_path, image)\n",
    "                new_path = os.path.join(val_root, cla)\n",
    "                copy(image_path, new_path)\n",
    "            else:\n",
    "                # 将分配至训练集中的文件复制到相应目录\n",
    "                image_path = os.path.join(cla_path, image)\n",
    "                new_path = os.path.join(train_root, cla)\n",
    "                copy(image_path, new_path)\n",
    "            print(\"\\r[{}] processing [{}/{}]\".format(cla, index+1, num), end=\"\")  # processing bar\n",
    "        print()\n",
    "\n",
    "    print(\"processing done!\")\n",
    "\n",
    "\n",
    "if __name__ == '__main__':\n",
    "    main()\n"
   ]
  }
 ],
 "metadata": {
  "kernelspec": {
   "display_name": "Python 3 (ipykernel)",
   "language": "python",
   "name": "python3"
  },
  "language_info": {
   "codemirror_mode": {
    "name": "ipython",
    "version": 3
   },
   "file_extension": ".py",
   "mimetype": "text/x-python",
   "name": "python",
   "nbconvert_exporter": "python",
   "pygments_lexer": "ipython3",
   "version": "3.9.20"
  }
 },
 "nbformat": 4,
 "nbformat_minor": 5
}

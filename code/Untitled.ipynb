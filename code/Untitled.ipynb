{
 "cells": [
  {
   "cell_type": "markdown",
   "id": "79769c46-f499-4d45-a83c-ea3ee0aa33f9",
   "metadata": {},
   "source": [
    "从零开始实现softmax回归"
   ]
  },
  {
   "cell_type": "code",
   "execution_count": 1,
   "id": "b9d73a56-16aa-47ee-87d8-c77c7f18c1b0",
   "metadata": {},
   "outputs": [],
   "source": [
    "import torch\n",
    "from IPython import display\n",
    "from d2l import torch as d2l\n",
    "\n",
    "batch_size=256\n",
    "train_iter,test_iter=d2l.load_data_fashion_mnist(batch_size)"
   ]
  },
  {
   "cell_type": "markdown",
   "id": "e8d186ea-141a-43c2-8b25-f354647a355d",
   "metadata": {},
   "source": [
    "展平每个图像，将它们视为长度784的向量。因为数据集有10个类别，所以输出维度为10"
   ]
  },
  {
   "cell_type": "code",
   "execution_count": 3,
   "id": "f78c8fae-dd65-4933-a2bf-08c383452c0a",
   "metadata": {},
   "outputs": [],
   "source": [
    "num_inputs=784\n",
    "num_outputs=10\n",
    "\n",
    "W=torch.normal(0,0.01,size=(num_inputs,num_outputs),requires_grad=True) # (权重设置为高斯随机分布的值）均值为0,方差为0.01\n",
    "b=torch.zeros(num_outputs,requires_grad=True)"
   ]
  },
  {
   "cell_type": "markdown",
   "id": "2a0cdb0f-0949-45f4-a9c5-a3d8c060106d",
   "metadata": {},
   "source": [
    "给定一个矩阵X，我们可以对所有元素求和"
   ]
  },
  {
   "cell_type": "code",
   "execution_count": 2,
   "id": "6b23d6a9-ec35-453d-9ba6-760827968b96",
   "metadata": {},
   "outputs": [
    {
     "data": {
      "text/plain": [
       "(tensor([[5., 7., 9.]]),\n",
       " tensor([[ 6.],\n",
       "         [15.]]))"
      ]
     },
     "execution_count": 2,
     "metadata": {},
     "output_type": "execute_result"
    }
   ],
   "source": [
    "X=torch.tensor([[1.0,2.0,3.0],[4.0,5.0,6.0]])\n",
    "X.sum(0,keepdim=True),X.sum(1,keepdim=True)#按行, 按列"
   ]
  },
  {
   "cell_type": "markdown",
   "id": "99b68a42-ad8c-437d-9376-e50748a301dc",
   "metadata": {},
   "source": [
    "实现softmax"
   ]
  },
  {
   "cell_type": "code",
   "execution_count": 4,
   "id": "2594fe82-6c61-4efc-b392-8cfa7e617338",
   "metadata": {},
   "outputs": [],
   "source": [
    "def softmax(X):\n",
    "    X_exp=torch.exp(X)\n",
    "    partition=X_exp.sum(1,keepdim=True)\n",
    "    return X_exp/partition      #这里用了广播机制`"
   ]
  },
  {
   "cell_type": "code",
   "execution_count": null,
   "id": "4315dd28-30f4-4baa-9e41-c6c601ffae40",
   "metadata": {},
   "outputs": [],
   "source": []
  }
 ],
 "metadata": {
  "kernelspec": {
   "display_name": "Python 3 (ipykernel)",
   "language": "python",
   "name": "python3"
  },
  "language_info": {
   "codemirror_mode": {
    "name": "ipython",
    "version": 3
   },
   "file_extension": ".py",
   "mimetype": "text/x-python",
   "name": "python",
   "nbconvert_exporter": "python",
   "pygments_lexer": "ipython3",
   "version": "3.9.20"
  }
 },
 "nbformat": 4,
 "nbformat_minor": 5
}

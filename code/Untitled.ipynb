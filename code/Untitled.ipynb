{
 "cells": [
  {
   "cell_type": "markdown",
   "id": "79769c46-f499-4d45-a83c-ea3ee0aa33f9",
   "metadata": {},
   "source": [
    "从零开始实现softmax回归"
   ]
  },
  {
   "cell_type": "code",
   "execution_count": 1,
   "id": "b9d73a56-16aa-47ee-87d8-c77c7f18c1b0",
   "metadata": {},
   "outputs": [],
   "source": [
    "import torch\n",
    "from IPython import display\n",
    "from d2l import torch as d2l\n",
    "\n",
    "batch_size=256\n",
    "train_iter,test_iter=d2l.load_data_fashion_mnist(batch_size)"
   ]
  },
  {
   "cell_type": "markdown",
   "id": "e8d186ea-141a-43c2-8b25-f354647a355d",
   "metadata": {},
   "source": [
    "展平每个图像，将它们视为长度784的向量。因为数据集有10个类别，所以输出维度wei"
   ]
  }
 ],
 "metadata": {
  "kernelspec": {
   "display_name": "Python 3 (ipykernel)",
   "language": "python",
   "name": "python3"
  },
  "language_info": {
   "codemirror_mode": {
    "name": "ipython",
    "version": 3
   },
   "file_extension": ".py",
   "mimetype": "text/x-python",
   "name": "python",
   "nbconvert_exporter": "python",
   "pygments_lexer": "ipython3",
   "version": "3.9.20"
  }
 },
 "nbformat": 4,
 "nbformat_minor": 5
}

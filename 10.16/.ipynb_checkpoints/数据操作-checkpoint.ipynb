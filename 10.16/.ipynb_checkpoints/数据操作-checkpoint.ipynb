{
 "cells": [
  {
   "cell_type": "code",
   "execution_count": 1,
   "id": "a89d9f0c-b9b8-4d65-9745-49bdc1761528",
   "metadata": {},
   "outputs": [],
   "source": [
    "import torch"
   ]
  },
  {
   "cell_type": "markdown",
   "id": "2fd22585-ea41-4ef4-ab41-1e922d28bece",
   "metadata": {},
   "source": [
    "张量表示一个数值组成的数组，这个数组可能有多个维度"
   ]
  },
  {
   "cell_type": "code",
   "execution_count": 3,
   "id": "c9656f9a-24aa-4cb9-8677-e03ac0d97878",
   "metadata": {},
   "outputs": [
    {
     "data": {
      "text/plain": [
       "tensor([ 0,  1,  2,  3,  4,  5,  6,  7,  8,  9, 10, 11])"
      ]
     },
     "execution_count": 3,
     "metadata": {},
     "output_type": "execute_result"
    }
   ],
   "source": [
    "x=torch.arange(12)\n",
    "x"
   ]
  },
  {
   "cell_type": "markdown",
   "id": "27f06109-9811-4de2-a0c2-c9a73b8f4780",
   "metadata": {},
   "source": [
    "我们可以通过张量的shape属性来访问张量的形状和张量中元素的总数"
   ]
  },
  {
   "cell_type": "code",
   "execution_count": 5,
   "id": "da01b32d-c6fe-4d4a-aab3-f046d547c2a1",
   "metadata": {},
   "outputs": [
    {
     "data": {
      "text/plain": [
       "torch.Size([12])"
      ]
     },
     "execution_count": 5,
     "metadata": {},
     "output_type": "execute_result"
    }
   ],
   "source": [
    "x.shape"
   ]
  },
  {
   "cell_type": "code",
   "execution_count": 6,
   "id": "b428b653-b9a8-4067-b1e8-ec0a3b94ba7e",
   "metadata": {},
   "outputs": [
    {
     "data": {
      "text/plain": [
       "12"
      ]
     },
     "execution_count": 6,
     "metadata": {},
     "output_type": "execute_result"
    }
   ],
   "source": [
    "x.numel() # num of elements"
   ]
  },
  {
   "cell_type": "markdown",
   "id": "b0769607-ffcc-463b-b63a-6d883a30d04a",
   "metadata": {},
   "source": [
    "要改变一个张量的形状而不改变元素数量和元素值，我们可以调用reshape函数"
   ]
  },
  {
   "cell_type": "code",
   "execution_count": 8,
   "id": "f64f4a6d-510b-4809-86ea-e2eed5369fc0",
   "metadata": {},
   "outputs": [
    {
     "data": {
      "text/plain": [
       "tensor([[ 0,  1,  2,  3],\n",
       "        [ 4,  5,  6,  7],\n",
       "        [ 8,  9, 10, 11]])"
      ]
     },
     "execution_count": 8,
     "metadata": {},
     "output_type": "execute_result"
    }
   ],
   "source": [
    "x=x.reshape(3,4)\n",
    "x"
   ]
  },
  {
   "cell_type": "markdown",
   "id": "c913b422-1815-4271-ad23-a990b1419683",
   "metadata": {},
   "source": [
    "使用全0，全1，或其他常量或者从特定分布中随机采样的数字"
   ]
  },
  {
   "cell_type": "code",
   "execution_count": 10,
   "id": "12db27ee-ae32-4440-9681-79c354f7ddd0",
   "metadata": {},
   "outputs": [
    {
     "data": {
      "text/plain": [
       "tensor([[[0., 0., 0., 0.],\n",
       "         [0., 0., 0., 0.],\n",
       "         [0., 0., 0., 0.]],\n",
       "\n",
       "        [[0., 0., 0., 0.],\n",
       "         [0., 0., 0., 0.],\n",
       "         [0., 0., 0., 0.]]])"
      ]
     },
     "execution_count": 10,
     "metadata": {},
     "output_type": "execute_result"
    }
   ],
   "source": [
    "torch.zeros((2,3,4))"
   ]
  },
  {
   "cell_type": "code",
   "execution_count": 11,
   "id": "9e32a693-fbad-4626-86b7-dd86623b08a2",
   "metadata": {},
   "outputs": [
    {
     "data": {
      "text/plain": [
       "tensor([[[1., 1., 1., 1.],\n",
       "         [1., 1., 1., 1.],\n",
       "         [1., 1., 1., 1.]],\n",
       "\n",
       "        [[1., 1., 1., 1.],\n",
       "         [1., 1., 1., 1.],\n",
       "         [1., 1., 1., 1.]]])"
      ]
     },
     "execution_count": 11,
     "metadata": {},
     "output_type": "execute_result"
    }
   ],
   "source": [
    "torch.ones((2,3,4))"
   ]
  },
  {
   "cell_type": "markdown",
   "id": "015ca6db-ed5a-40b1-8aba-db7fd9813a03",
   "metadata": {},
   "source": [
    "通过提供包含数值的Python列表（或嵌套列表）来为所需张量中的每个元素赋予确定值"
   ]
  },
  {
   "cell_type": "code",
   "execution_count": 13,
   "id": "4cebb1ff-82c1-486a-b8a8-31e29056ec76",
   "metadata": {},
   "outputs": [
    {
     "data": {
      "text/plain": [
       "tensor([[2, 1, 4, 3],\n",
       "        [1, 2, 3, 4],\n",
       "        [4, 3, 2, 1]])"
      ]
     },
     "execution_count": 13,
     "metadata": {},
     "output_type": "execute_result"
    }
   ],
   "source": [
    "torch.tensor([[2,1,4,3],[1,2,3,4],[4,3,2,1]])"
   ]
  },
  {
   "cell_type": "markdown",
   "id": "10a65b70-39e7-4312-a24d-66f72507109b",
   "metadata": {},
   "source": [
    "常见的标准算术运算符（+，-，*，/和**）都可以被升级为按元素运算"
   ]
  },
  {
   "cell_type": "code",
   "execution_count": 15,
   "id": "af56da8e-beea-4ca8-8322-3af5b4586643",
   "metadata": {},
   "outputs": [
    {
     "data": {
      "text/plain": [
       "(tensor([ 3.,  4.,  6., 10.]),\n",
       " tensor([-1.,  0.,  2.,  6.]),\n",
       " tensor([ 2.,  4.,  8., 16.]),\n",
       " tensor([0.5000, 1.0000, 2.0000, 4.0000]),\n",
       " tensor([ 1.,  4., 16., 64.]))"
      ]
     },
     "execution_count": 15,
     "metadata": {},
     "output_type": "execute_result"
    }
   ],
   "source": [
    "x=torch.tensor([1.0,2,4,8])\n",
    "y=torch.tensor([2,2,2,2])\n",
    "x+y,x-y,x*y,x/y,x**y"
   ]
  },
  {
   "cell_type": "markdown",
   "id": "3ca964b7-7ac7-4913-b2d4-994afb9d5874",
   "metadata": {},
   "source": [
    "按元素方式应用更多的计算"
   ]
  },
  {
   "cell_type": "code",
   "execution_count": 17,
   "id": "528f984f-54e5-41da-87fa-e7045701652a",
   "metadata": {},
   "outputs": [
    {
     "data": {
      "text/plain": [
       "tensor([2.7183e+00, 7.3891e+00, 5.4598e+01, 2.9810e+03])"
      ]
     },
     "execution_count": 17,
     "metadata": {},
     "output_type": "execute_result"
    }
   ],
   "source": [
    "torch.exp(x)"
   ]
  },
  {
   "cell_type": "markdown",
   "id": "80c58ddd-44db-4ac5-a17f-238e9b17b786",
   "metadata": {},
   "source": [
    "我们也可以把多个张量连结到一起"
   ]
  },
  {
   "cell_type": "code",
   "execution_count": 22,
   "id": "0ba2a604-8e03-4aad-a958-e12865650c96",
   "metadata": {},
   "outputs": [
    {
     "data": {
      "text/plain": [
       "tensor([[ 0.,  1.,  2.,  3.,  2.,  1.,  4.,  3.,  0.,  1.,  2.,  3.],\n",
       "        [ 4.,  5.,  6.,  7.,  1.,  2.,  3.,  4.,  4.,  5.,  6.,  7.],\n",
       "        [ 8.,  9., 10., 11.,  4.,  3.,  2.,  1.,  8.,  9., 10., 11.]])"
      ]
     },
     "execution_count": 22,
     "metadata": {},
     "output_type": "execute_result"
    }
   ],
   "source": [
    "X=torch.arange(12,dtype=torch.float32).reshape((3,4))\n",
    "Y=torch.tensor([[2.0,1,4,3],[1,2,3,4],[4,3,2,1]])\n",
    "torch.cat((X,Y),dim=0)\n",
    "torch.cat((X,Y),dim=1)"
   ]
  },
  {
   "cell_type": "markdown",
   "id": "14e730d5-bcde-45bf-9497-7b16163764f2",
   "metadata": {},
   "source": [
    "通过 逻辑运算符构建二元张量"
   ]
  },
  {
   "cell_type": "code",
   "execution_count": 24,
   "id": "09500176-670a-4be7-b8b0-71463dc9b270",
   "metadata": {},
   "outputs": [
    {
     "data": {
      "text/plain": [
       "tensor([[False,  True, False,  True],\n",
       "        [False, False, False, False],\n",
       "        [False, False, False, False]])"
      ]
     },
     "execution_count": 24,
     "metadata": {},
     "output_type": "execute_result"
    }
   ],
   "source": [
    "X==Y"
   ]
  },
  {
   "cell_type": "markdown",
   "id": "231d15f7-ac68-432c-991d-cf00595365b1",
   "metadata": {},
   "source": [
    "对张量中的所有元素求和会产生一个只有一个元素的张量"
   ]
  },
  {
   "cell_type": "code",
   "execution_count": 26,
   "id": "1efc6eec-4f6a-4245-b7b1-f518c5e4cf87",
   "metadata": {},
   "outputs": [
    {
     "data": {
      "text/plain": [
       "tensor(66.)"
      ]
     },
     "execution_count": 26,
     "metadata": {},
     "output_type": "execute_result"
    }
   ],
   "source": [
    "X.sum()"
   ]
  },
  {
   "cell_type": "code",
   "execution_count": 28,
   "id": "f0dd7b84-681c-4620-98c6-817fa93cdba2",
   "metadata": {},
   "outputs": [
    {
     "data": {
      "text/plain": [
       "tensor(30.)"
      ]
     },
     "execution_count": 28,
     "metadata": {},
     "output_type": "execute_result"
    }
   ],
   "source": [
    "Y.sum()"
   ]
  },
  {
   "cell_type": "markdown",
   "id": "a307e0eb-465f-4b4c-8155-19ce4796f9aa",
   "metadata": {},
   "source": [
    "即使形状不同，我们仍可以通过广播机制（broadcasting mechanism）来执行按元素操作"
   ]
  },
  {
   "cell_type": "code",
   "execution_count": 30,
   "id": "9883c7fa-95e5-40a0-a814-e46f4a5851fb",
   "metadata": {},
   "outputs": [
    {
     "data": {
      "text/plain": [
       "(tensor([[0],\n",
       "         [1],\n",
       "         [2]]),\n",
       " tensor([[0, 1]]))"
      ]
     },
     "execution_count": 30,
     "metadata": {},
     "output_type": "execute_result"
    }
   ],
   "source": [
    "a=torch.arange(3).reshape((3,1))\n",
    "b=torch.arange(2).reshape((1,2))\n",
    "a,b"
   ]
  },
  {
   "cell_type": "code",
   "execution_count": 32,
   "id": "d65f9a84-ddc0-4003-b941-faba66538b74",
   "metadata": {},
   "outputs": [
    {
     "data": {
      "text/plain": [
       "tensor([[0, 1],\n",
       "        [1, 2],\n",
       "        [2, 3]])"
      ]
     },
     "execution_count": 32,
     "metadata": {},
     "output_type": "execute_result"
    }
   ],
   "source": [
    "a+b\n",
    "# 把a的列复制一次变成2列，把b的行复制两变成3行"
   ]
  },
  {
   "cell_type": "markdown",
   "id": "1c33393c-2f3e-4db4-b366-8628171a4b44",
   "metadata": {},
   "source": [
    "可以用[-1] 选择最后一个元素，可以用[1:3] 选择第二个和第三个元素"
   ]
  },
  {
   "cell_type": "code",
   "execution_count": 38,
   "id": "07dc2493-fda9-4822-8222-bc141f88a58e",
   "metadata": {},
   "outputs": [
    {
     "data": {
      "text/plain": [
       "(tensor([ 8.,  9., 10., 11.]),\n",
       " tensor([[ 4.,  5.,  6.,  7.],\n",
       "         [ 8.,  9., 10., 11.]]))"
      ]
     },
     "execution_count": 38,
     "metadata": {},
     "output_type": "execute_result"
    }
   ],
   "source": [
    "X[-1],X[1:3] # 下标为1和2的行。"
   ]
  },
  {
   "cell_type": "markdown",
   "id": "06c3ee4c-7ba0-4678-8b3a-39391ea54a1e",
   "metadata": {},
   "source": [
    "为多个元素赋相同的值"
   ]
  },
  {
   "cell_type": "code",
   "execution_count": 42,
   "id": "680d8e1f-e027-4177-b881-13a0aeb1a4ad",
   "metadata": {},
   "outputs": [
    {
     "data": {
      "text/plain": [
       "tensor([[12., 12., 12., 12.],\n",
       "        [12., 12., 12., 12.],\n",
       "        [ 8.,  9., 10., 11.]])"
      ]
     },
     "execution_count": 42,
     "metadata": {},
     "output_type": "execute_result"
    }
   ],
   "source": [
    "X[0:2,:]=12 #把下标为0，1的行，和所有的列的的值设置成12\n",
    "X"
   ]
  },
  {
   "cell_type": "code",
   "execution_count": null,
   "id": "10e30b04-8d6a-4505-9c5c-28f7a262a589",
   "metadata": {},
   "outputs": [],
   "source": []
  }
 ],
 "metadata": {
  "kernelspec": {
   "display_name": "Python 3 (ipykernel)",
   "language": "python",
   "name": "python3"
  },
  "language_info": {
   "codemirror_mode": {
    "name": "ipython",
    "version": 3
   },
   "file_extension": ".py",
   "mimetype": "text/x-python",
   "name": "python",
   "nbconvert_exporter": "python",
   "pygments_lexer": "ipython3",
   "version": "3.12.4"
  }
 },
 "nbformat": 4,
 "nbformat_minor": 5
}

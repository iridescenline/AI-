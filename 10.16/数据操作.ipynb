{
 "cells": [
  {
   "cell_type": "code",
   "execution_count": 1,
   "id": "a89d9f0c-b9b8-4d65-9745-49bdc1761528",
   "metadata": {},
   "outputs": [],
   "source": [
    "import torch"
   ]
  },
  {
   "cell_type": "markdown",
   "id": "2fd22585-ea41-4ef4-ab41-1e922d28bece",
   "metadata": {},
   "source": [
    "张量表示一个数值组成的数组，这个数组可能有多个维度"
   ]
  },
  {
   "cell_type": "code",
   "execution_count": 3,
   "id": "c9656f9a-24aa-4cb9-8677-e03ac0d97878",
   "metadata": {},
   "outputs": [
    {
     "data": {
      "text/plain": [
       "tensor([ 0,  1,  2,  3,  4,  5,  6,  7,  8,  9, 10, 11])"
      ]
     },
     "execution_count": 3,
     "metadata": {},
     "output_type": "execute_result"
    }
   ],
   "source": [
    "x=torch.arange(12)\n",
    "x"
   ]
  },
  {
   "cell_type": "markdown",
   "id": "27f06109-9811-4de2-a0c2-c9a73b8f4780",
   "metadata": {},
   "source": [
    "我们可以通过张量的shape属性来访问张量的形状和张量中元素的总数"
   ]
  },
  {
   "cell_type": "code",
   "execution_count": null,
   "id": "da01b32d-c6fe-4d4a-aab3-f046d547c2a1",
   "metadata": {},
   "outputs": [],
   "source": [
    "x.shape"
   ]
  },
  {
   "cell_type": "code",
   "execution_count": null,
   "id": "b428b653-b9a8-4067-b1e8-ec0a3b94ba7e",
   "metadata": {},
   "outputs": [],
   "source": [
    "x.numel() # num of elements"
   ]
  },
  {
   "cell_type": "markdown",
   "id": "b0769607-ffcc-463b-b63a-6d883a30d04a",
   "metadata": {},
   "source": [
    "要改变一个张量的形状而不改变元素数量和元素值，我们可以调用reshape函数"
   ]
  },
  {
   "cell_type": "code",
   "execution_count": null,
   "id": "f64f4a6d-510b-4809-86ea-e2eed5369fc0",
   "metadata": {},
   "outputs": [],
   "source": [
    "x=x.reshape(3,4)\n",
    "x"
   ]
  },
  {
   "cell_type": "markdown",
   "id": "c913b422-1815-4271-ad23-a990b1419683",
   "metadata": {},
   "source": [
    "使用全0，全1，或其他常量或者从特定分布中随机采样的数字"
   ]
  },
  {
   "cell_type": "code",
   "execution_count": null,
   "id": "12db27ee-ae32-4440-9681-79c354f7ddd0",
   "metadata": {},
   "outputs": [],
   "source": [
    "torch.zeros((2,3,4))"
   ]
  },
  {
   "cell_type": "code",
   "execution_count": null,
   "id": "9e32a693-fbad-4626-86b7-dd86623b08a2",
   "metadata": {},
   "outputs": [],
   "source": [
    "torch.ones((2,3,4))"
   ]
  },
  {
   "cell_type": "markdown",
   "id": "015ca6db-ed5a-40b1-8aba-db7fd9813a03",
   "metadata": {},
   "source": [
    "通过提供包含数值的Python列表（或嵌套列表）来为所需张量中的每个元素赋予确定值"
   ]
  },
  {
   "cell_type": "code",
   "execution_count": null,
   "id": "4cebb1ff-82c1-486a-b8a8-31e29056ec76",
   "metadata": {},
   "outputs": [],
   "source": [
    "torch.tensor([[2,1,4,3],[1,2,3,4],[4,3,2,1]])"
   ]
  }
 ],
 "metadata": {
  "kernelspec": {
   "display_name": "Python 3 (ipykernel)",
   "language": "python",
   "name": "python3"
  },
  "language_info": {
   "codemirror_mode": {
    "name": "ipython",
    "version": 3
   },
   "file_extension": ".py",
   "mimetype": "text/x-python",
   "name": "python",
   "nbconvert_exporter": "python",
   "pygments_lexer": "ipython3",
   "version": "3.12.4"
  }
 },
 "nbformat": 4,
 "nbformat_minor": 5
}
